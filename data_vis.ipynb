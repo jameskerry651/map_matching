{
 "cells": [
  {
   "cell_type": "code",
   "id": "initial_id",
   "metadata": {
    "collapsed": true,
    "ExecuteTime": {
     "end_time": "2025-07-12T12:13:47.384540Z",
     "start_time": "2025-07-12T12:13:47.382870Z"
    }
   },
   "source": [
    "import numpy as np\n",
    "import pandas as pd"
   ],
   "outputs": [],
   "execution_count": 3
  },
  {
   "metadata": {},
   "cell_type": "markdown",
   "source": [
    "数据特征：\n",
    "- 司机数量: 35449\n",
    "- 订单数量: 181172\n",
    "- GPS时间范围: 从 2016-11-01 00:02:02 到 2016-11-01 23:59:59\n",
    "- 共有32155517条数据"
   ],
   "id": "54471660b1ace963"
  },
  {
   "metadata": {
    "ExecuteTime": {
     "end_time": "2025-07-12T12:19:13.384875Z",
     "start_time": "2025-07-12T12:18:59.789657Z"
    }
   },
   "cell_type": "code",
   "source": "df= pd.read_csv('2016_1101_m.csv')",
   "id": "97c10fcd66ab1d78",
   "outputs": [],
   "execution_count": 5
  },
  {
   "metadata": {
    "ExecuteTime": {
     "end_time": "2025-07-12T12:24:32.963250Z",
     "start_time": "2025-07-12T12:24:31.890152Z"
    }
   },
   "cell_type": "code",
   "source": [
    "if len(df) < 1000000:\n",
    "    print(\"警告：DataFrame的总行数不足100万，将对所有数据进行采样。\")\n",
    "    sampled_df = df.sample(n=len(df), random_state=42)\n",
    "else:\n",
    "    # 2. 从 DataFrame 中随机采样 100 万条数据\n",
    "    # 使用 random_state 可以确保每次运行代码时采样的结果都一样，便于复现\n",
    "    sampled_df = df.sample(n=100000, random_state=42)\n",
    "\n",
    "# 3. 将采样后的数据输出到 CSV 文件\n",
    "# index=False 表示不将 DataFrame 的索引写入到 CSV 文件中\n",
    "# encoding='utf-8-sig' 建议使用，以避免中文等特殊字符在 Excel 中打开时出现乱码\n",
    "output_filename = 'sampled_data_1m.csv'\n",
    "sampled_df.to_csv(output_filename, index=False, encoding='utf-8-sig')\n",
    "\n",
    "# --- 核心代码结束 ---\n",
    "\n",
    "print(f\"\\n成功采样 {len(sampled_df)} 条数据！\")\n",
    "print(f\"结果已保存到文件: {output_filename}\")\n",
    "\n",
    "print(sampled_df.columns)"
   ],
   "id": "e2deaa9f6bb79357",
   "outputs": [
    {
     "name": "stdout",
     "output_type": "stream",
     "text": [
      "\n",
      "成功采样 100000 条数据！\n",
      "结果已保存到文件: sampled_data_1m.csv\n",
      "Index(['driver_id', 'order_id', 'gps_time', 'longitude', 'latitude'], dtype='object')\n"
     ]
    }
   ],
   "execution_count": 8
  },
  {
   "metadata": {},
   "cell_type": "markdown",
   "source": "随机采样n条数据",
   "id": "2fbbc5a99e4f26b3"
  },
  {
   "metadata": {
    "ExecuteTime": {
     "end_time": "2025-07-12T12:40:48.301376Z",
     "start_time": "2025-07-12T12:40:46.420476Z"
    }
   },
   "cell_type": "code",
   "source": [
    "def get_random_order_trajectories(df: pd.DataFrame, n: int = 1) -> pd.DataFrame:\n",
    "    \"\"\"\n",
    "    从包含GPS轨迹数据的DataFrame中随机抽取n个订单的完整轨迹，并按订单和时间排序。\n",
    "\n",
    "    参数:\n",
    "        df (pd.DataFrame): 包含GPS数据的输入DataFrame。\n",
    "                           必须包含 'order_id' 和 'gps_time' 列。\n",
    "        n (int, optional):  要随机抽取的订单数量。默认为 1。\n",
    "\n",
    "    返回:\n",
    "        pd.DataFrame: 一个新的DataFrame，其中包含随机选定的n个订单的所有GPS点。\n",
    "                      数据首先按 'order_id' 排序，然后在每个订单内按 'gps_time' 升序排列。\n",
    "                      如果输入DataFrame为空或n<1，则返回空DataFrame。\n",
    "    \"\"\"\n",
    "    # 1. 边缘情况处理\n",
    "    if df.empty or n < 1:\n",
    "        print(\"警告：输入的DataFrame为空或请求的订单数n小于1，返回空DataFrame。\")\n",
    "        return pd.DataFrame()\n",
    "\n",
    "    # 2. 获取所有唯一的订单ID\n",
    "    unique_orders = df['order_id'].unique()\n",
    "    num_unique_orders = len(unique_orders)\n",
    "\n",
    "    if num_unique_orders == 0:\n",
    "        print(\"警告：在 'order_id' 列中没有找到有效订单。\")\n",
    "        return pd.DataFrame()\n",
    "\n",
    "    # 3. 决定要抽样的订单ID列表\n",
    "    # 如果请求的n大于等于总订单数，就返回所有订单\n",
    "    if n >= num_unique_orders:\n",
    "        print(f\"警告：请求的订单数 ({n}) 大于或等于总的唯一订单数 ({num_unique_orders})。将返回所有订单的轨迹。\")\n",
    "        sampled_order_ids = unique_orders\n",
    "    else:\n",
    "        # 随机抽取n个不重复的订单ID\n",
    "        sampled_order_ids = np.random.choice(unique_orders, size=n, replace=False)\n",
    "\n",
    "    print(f\"已随机抽取的订单ID为: {list(sampled_order_ids)}\")\n",
    "\n",
    "    # 4. 使用 .isin() 高效筛选出所有被选中订单的数据\n",
    "    # 使用 .copy() 以避免后续操作影响原始数据\n",
    "    trajectories_df = df[df['order_id'].isin(sampled_order_ids)].copy()\n",
    "\n",
    "    # 5. 将 'gps_time' 列转换为 datetime 对象以确保排序准确性\n",
    "    trajectories_df['gps_time'] = pd.to_datetime(trajectories_df['gps_time'])\n",
    "\n",
    "    # 6. 核心排序：先按订单ID分组，再在组内按时间升序排列\n",
    "    sorted_trajectories_df = trajectories_df.sort_values(\n",
    "        by=['order_id', 'gps_time'],\n",
    "        ascending=True\n",
    "    )\n",
    "\n",
    "    return sorted_trajectories_df\n",
    "\n",
    "order_sampled_trajectory = get_random_order_trajectories(df, 3)\n",
    "\n",
    "order_sampled_trajectory.to_csv(\"order_sampled.csv\", index=False, encoding='utf-8-sig')\n"
   ],
   "id": "40575f9f254e51cd",
   "outputs": [
    {
     "name": "stdout",
     "output_type": "stream",
     "text": [
      "已随机抽取的订单ID为: ['ee49c0120e53d1d5b85b152dd48f7d55', 'b5626333098d8a3599f352c04580b860', '904dceb81ca12070f994b8adf441e643']\n"
     ]
    }
   ],
   "execution_count": 15
  },
  {
   "metadata": {},
   "cell_type": "markdown",
   "source": "随机采样n个订单的数据，并根据时间排序",
   "id": "cc4a0ae38d7d117c"
  },
  {
   "metadata": {
    "ExecuteTime": {
     "end_time": "2025-07-12T12:43:10.556217Z",
     "start_time": "2025-07-12T12:43:08.974706Z"
    }
   },
   "cell_type": "code",
   "source": [
    "def get_random_driver_data(df: pd.DataFrame, n: int = 1) -> pd.DataFrame:\n",
    "    \"\"\"\n",
    "    从包含GPS轨迹数据的DataFrame中随机抽取n个司机的全部数据，并按司机和时间排序。\n",
    "\n",
    "    参数:\n",
    "        df (pd.DataFrame): 包含GPS数据的输入DataFrame。\n",
    "                           必须包含 'driver_id' 和 'gps_time' 列。\n",
    "        n (int, optional):  要随机抽取的司机数量。默认为 1。\n",
    "\n",
    "    返回:\n",
    "        pd.DataFrame: 一个新的DataFrame，其中包含随机选定的n个司机的所有数据点。\n",
    "                      数据首先按 'driver_id' 排序，然后在每个司机内按 'gps_time' 升序排列。\n",
    "                      如果输入DataFrame为空或n<1，则返回空DataFrame。\n",
    "    \"\"\"\n",
    "    # 1. 边缘情况处理\n",
    "    if df.empty or n < 1:\n",
    "        print(\"警告：输入的DataFrame为空或请求的司机数n小于1，返回空DataFrame。\")\n",
    "        return pd.DataFrame()\n",
    "\n",
    "    # 2. 获取所有唯一的司机ID\n",
    "    unique_drivers = df['driver_id'].unique()\n",
    "    num_unique_drivers = len(unique_drivers)\n",
    "\n",
    "    if num_unique_drivers == 0:\n",
    "        print(\"警告：在 'driver_id' 列中没有找到有效司机。\")\n",
    "        return pd.DataFrame()\n",
    "\n",
    "    # 3. 决定要抽样的司机ID列表\n",
    "    # 如果请求的n大于等于总司机数，就返回所有司机的数据\n",
    "    if n >= num_unique_drivers:\n",
    "        print(f\"警告：请求的司机数 ({n}) 大于或等于总的唯一司机数 ({num_unique_drivers})。将返回所有司机的数据。\")\n",
    "        sampled_driver_ids = unique_drivers\n",
    "    else:\n",
    "        # 随机抽取n个不重复的司机ID\n",
    "        sampled_driver_ids = np.random.choice(unique_drivers, size=n, replace=False)\n",
    "\n",
    "    print(f\"已随机抽取的司机ID为: {list(sampled_driver_ids)}\")\n",
    "\n",
    "    # 4. 使用 .isin() 高效筛选出所有被选中司机的数据\n",
    "    driver_data_df = df[df['driver_id'].isin(sampled_driver_ids)].copy()\n",
    "\n",
    "    # 5. 将 'gps_time' 列转换为 datetime 对象以确保排序准确性\n",
    "    driver_data_df['gps_time'] = pd.to_datetime(driver_data_df['gps_time'])\n",
    "\n",
    "    # 6. 核心排序：先按司机ID分组，再在组内按时间升序排列\n",
    "    sorted_driver_data_df = driver_data_df.sort_values(\n",
    "        by=['driver_id', 'gps_time'],\n",
    "        ascending=True\n",
    "    )\n",
    "\n",
    "    return sorted_driver_data_df\n",
    "\n",
    "driver_sampled_trajectory = get_random_driver_data(df, 1)\n",
    "\n",
    "driver_sampled_trajectory.to_csv(\"driver_id_sampled.csv\", index=False, encoding='utf-8-sig')"
   ],
   "id": "e051854bbd532519",
   "outputs": [
    {
     "name": "stdout",
     "output_type": "stream",
     "text": [
      "已随机抽取的司机ID为: ['16acf51349ffa5a8953dd207a243425b']\n"
     ]
    }
   ],
   "execution_count": 16
  }
 ],
 "metadata": {
  "kernelspec": {
   "display_name": "Python 3",
   "language": "python",
   "name": "python3"
  },
  "language_info": {
   "codemirror_mode": {
    "name": "ipython",
    "version": 2
   },
   "file_extension": ".py",
   "mimetype": "text/x-python",
   "name": "python",
   "nbconvert_exporter": "python",
   "pygments_lexer": "ipython2",
   "version": "2.7.6"
  }
 },
 "nbformat": 4,
 "nbformat_minor": 5
}

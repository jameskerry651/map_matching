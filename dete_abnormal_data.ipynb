{
 "cells": [
  {
   "cell_type": "code",
   "id": "initial_id",
   "metadata": {
    "collapsed": true,
    "ExecuteTime": {
     "end_time": "2025-07-15T07:34:27.136019Z",
     "start_time": "2025-07-15T07:34:27.131368Z"
    }
   },
   "source": [
    "from utils.filter_data_utils import *\n",
    "from utils.sample_data_utils import *"
   ],
   "outputs": [],
   "execution_count": 8
  },
  {
   "metadata": {
    "ExecuteTime": {
     "end_time": "2025-07-15T07:34:41.039737Z",
     "start_time": "2025-07-15T07:34:27.199043Z"
    }
   },
   "cell_type": "code",
   "source": "df= pd.read_csv('2016_1101_m.csv')",
   "id": "a213db9e5c16ad4d",
   "outputs": [],
   "execution_count": 9
  },
  {
   "metadata": {
    "ExecuteTime": {
     "end_time": "2025-07-15T07:34:56.245605Z",
     "start_time": "2025-07-15T07:34:41.049683Z"
    }
   },
   "cell_type": "code",
   "source": [
    "\n",
    "# 移除订单中重复的gps\n",
    "filtered_df = remove_duplicate_gps_points(df, keep='first')\n",
    "\n",
    "# 订单中gps序列最大时间间隔必须小于10s\n",
    "filtered_df = filter_orders_by_max_interval(filtered_df, max_time_threshold=10)\n"
   ],
   "id": "64562efd32402b01",
   "outputs": [],
   "execution_count": 10
  },
  {
   "metadata": {},
   "cell_type": "markdown",
   "source": "根据条件过滤异常数据",
   "id": "4aadfc2a70dc824f"
  },
  {
   "metadata": {
    "ExecuteTime": {
     "end_time": "2025-07-15T07:34:58.872346Z",
     "start_time": "2025-07-15T07:34:56.255091Z"
    }
   },
   "cell_type": "code",
   "source": [
    "\n",
    "# 订单中gps序列点集(移除重复点)必须大于 20\n",
    "filtered_df = filter_orders_by_length(filtered_df, min_length=20)\n",
    "\n",
    "# 订单中gps轨迹总长度必须大于1000m\n",
    "filtered_df = filter_orders_by_distance(filtered_df, min_distance_meters=1000)\n",
    "\n",
    "filtered_df['time_diff'] = filtered_df.groupby('order_id')['gps_time'].diff().dt.total_seconds()\n",
    "print(filtered_df['time_diff'].describe())\n",
    "\n",
    "\n",
    "# 移除订单中连续两点gps间隔距离大于100m的订单\n",
    "filtered_df = filter_orders_by_max_segment_distance(filtered_df, max_segment_meters=100)\n",
    "\n",
    "print(filtered_df)\n",
    "\n",
    "if not filtered_df.empty:\n",
    "    output_filename = 'filtered_orders.csv'\n",
    "    filtered_df.to_csv(output_filename, index=False, encoding='utf-8-sig')\n",
    "    print(f\"\\n已将筛选结果成功保存到 '{output_filename}'\")"
   ],
   "id": "da69dff36d9ae781",
   "outputs": [
    {
     "name": "stdout",
     "output_type": "stream",
     "text": [
      "count    811403.000000\n",
      "mean          3.191737\n",
      "std           0.837406\n",
      "min           1.000000\n",
      "25%           3.000000\n",
      "50%           3.000000\n",
      "75%           3.000000\n",
      "max           9.000000\n",
      "Name: time_diff, dtype: float64\n",
      "                                 driver_id                          order_id  \\\n",
      "8240276   9a9ac4db0843220095674816bcbe28d7  000a7cb982caa7c3a7b0245b6fd3da08   \n",
      "8245569   9a9ac4db0843220095674816bcbe28d7  000a7cb982caa7c3a7b0245b6fd3da08   \n",
      "8247392   9a9ac4db0843220095674816bcbe28d7  000a7cb982caa7c3a7b0245b6fd3da08   \n",
      "8249013   9a9ac4db0843220095674816bcbe28d7  000a7cb982caa7c3a7b0245b6fd3da08   \n",
      "8250551   9a9ac4db0843220095674816bcbe28d7  000a7cb982caa7c3a7b0245b6fd3da08   \n",
      "...                                    ...                               ...   \n",
      "16503427  2eb4c952f0af747168f11dd229936342  fff0ee2db1bd1cd98ce4c49cb0cd4851   \n",
      "16505589  2eb4c952f0af747168f11dd229936342  fff0ee2db1bd1cd98ce4c49cb0cd4851   \n",
      "16507241  2eb4c952f0af747168f11dd229936342  fff0ee2db1bd1cd98ce4c49cb0cd4851   \n",
      "16509328  2eb4c952f0af747168f11dd229936342  fff0ee2db1bd1cd98ce4c49cb0cd4851   \n",
      "16512881  2eb4c952f0af747168f11dd229936342  fff0ee2db1bd1cd98ce4c49cb0cd4851   \n",
      "\n",
      "                    gps_time   longitude   latitude  time_diff  \n",
      "8240276  2016-11-01 10:55:05  104.066005  30.721559        NaN  \n",
      "8245569  2016-11-01 10:55:14  104.066015  30.721569        9.0  \n",
      "8247392  2016-11-01 10:55:17  104.066015  30.721589        3.0  \n",
      "8249013  2016-11-01 10:55:20  104.066025  30.721689        3.0  \n",
      "8250551  2016-11-01 10:55:23  104.066035  30.721829        3.0  \n",
      "...                      ...         ...        ...        ...  \n",
      "16503427 2016-11-01 14:58:17  104.063323  30.656153        3.0  \n",
      "16505589 2016-11-01 14:58:20  104.063353  30.656113        3.0  \n",
      "16507241 2016-11-01 14:58:23  104.063353  30.656103        3.0  \n",
      "16509328 2016-11-01 14:58:26  104.063422  30.656023        3.0  \n",
      "16512881 2016-11-01 14:58:32  104.063422  30.655923        6.0  \n",
      "\n",
      "[338708 rows x 6 columns]\n",
      "\n",
      "已将筛选结果成功保存到 'filtered_orders.csv'\n"
     ]
    }
   ],
   "execution_count": 11
  },
  {
   "metadata": {
    "ExecuteTime": {
     "end_time": "2025-07-15T07:35:20.211860Z",
     "start_time": "2025-07-15T07:35:20.179570Z"
    }
   },
   "cell_type": "code",
   "source": [
    "order_sampled_trajectory = get_random_order_trajectories(filtered_df , 20)\n",
    "\n",
    "order_sampled_trajectory.to_csv(\"filtered_sampled_orders.csv\", index=False, encoding='utf-8-sig')"
   ],
   "id": "f8e702403d8c00b6",
   "outputs": [
    {
     "name": "stdout",
     "output_type": "stream",
     "text": [
      "已随机抽取的订单ID为: ['b26d8d05fc691f8c6b2b6e40eb14270a', '0c50959ccb45b59b36d5776f04019587', '2dfbbe9ee6f6d3b90d9af4b7598e75a1', '8bd6dc580deb627f76e22d33b553ddc2', 'fe82504ced4c9e0234c863314d0ad5de', 'b04a17ac9aedb62522a8758fe26b46d3', '5a228e06cddb272aa6ccfab58a4f65f4', 'bf5bb12c90a53e51b6ca48d4612e19d7', '346deb90bb66208c22f2203f4d7d01c2', 'a4f976abf4a0567cd139516923199f95', '416770569a69ea6cef67787c8b4f91cb', '6fd3d61de49af4b70224b061dcd3038e', 'c9bc12c3a559163cdccd8066e7eb0468', 'bdcd8d1708930f6dc95a36f3b081d8d4', 'fb3c65d810b0721b1537ac2921ad81a9', '0dd0bba50e52d4abba6792cc71f554dc', '425ff5f114cb5c928c206345cb79ba8e', 'e39a3882ff32ba97248c54c52cf4894b', 'e8bd46dc38c956c81e03be9e28529194', 'b6cb820d6e00276c2e100ca9974164f6']\n"
     ]
    }
   ],
   "execution_count": 13
  }
 ],
 "metadata": {
  "kernelspec": {
   "display_name": "Python 3",
   "language": "python",
   "name": "python3"
  },
  "language_info": {
   "codemirror_mode": {
    "name": "ipython",
    "version": 2
   },
   "file_extension": ".py",
   "mimetype": "text/x-python",
   "name": "python",
   "nbconvert_exporter": "python",
   "pygments_lexer": "ipython2",
   "version": "2.7.6"
  }
 },
 "nbformat": 4,
 "nbformat_minor": 5
}

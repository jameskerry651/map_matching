{
 "cells": [
  {
   "cell_type": "code",
   "id": "initial_id",
   "metadata": {
    "collapsed": true,
    "ExecuteTime": {
     "end_time": "2025-07-14T13:53:53.639937Z",
     "start_time": "2025-07-14T13:53:53.449471Z"
    }
   },
   "source": [
    "import numpy as np\n",
    "import pandas as pd\n",
    "from utils.filter_data_utils import *\n",
    "from utils.sample_data_utils import *"
   ],
   "outputs": [],
   "execution_count": 1
  },
  {
   "metadata": {
    "ExecuteTime": {
     "end_time": "2025-07-14T13:54:07.095854Z",
     "start_time": "2025-07-14T13:53:53.643373Z"
    }
   },
   "cell_type": "code",
   "source": "df= pd.read_csv('2016_1101_m.csv')",
   "id": "a213db9e5c16ad4d",
   "outputs": [],
   "execution_count": 2
  },
  {
   "metadata": {},
   "cell_type": "markdown",
   "source": "根据条件过滤异常数据",
   "id": "4aadfc2a70dc824f"
  },
  {
   "metadata": {
    "ExecuteTime": {
     "end_time": "2025-07-14T13:55:10.529136Z",
     "start_time": "2025-07-14T13:54:07.143969Z"
    }
   },
   "cell_type": "code",
   "source": [
    "# 订单中gps序列最大时间间隔必须小于10s\n",
    "filtered_df = filter_orders_by_max_interval(df, max_time_threshold=10)\n",
    "\n",
    "# 移除订单中重复的gps\n",
    "filtered_df = remove_duplicate_gps_points(filtered_df, keep='first')\n",
    "\n",
    "# 订单中gps序列点集(移除重复点)必须大于 20\n",
    "filtered_df = filter_orders_by_length(filtered_df, min_length=20)\n",
    "\n",
    "# 订单中gps轨迹总长度必须大于1000m\n",
    "filtered_df = filter_orders_by_distance(filtered_df, min_distance_meters=1000)\n",
    "\n",
    "# 移除订单中连续两点gps间隔距离大于100m的订单\n",
    "filtered_df = filter_orders_by_max_segment_distance(filtered_df, max_segment_meters=100)\n",
    "\n",
    "print(filtered_df)\n",
    "\n",
    "if not filtered_df.empty:\n",
    "    output_filename = 'filtered_orders.csv'\n",
    "    filtered_df.to_csv(output_filename, index=False, encoding='utf-8-sig')\n",
    "    print(f\"\\n已将筛选结果成功保存到 '{output_filename}'\")"
   ],
   "id": "da69dff36d9ae781",
   "outputs": [
    {
     "name": "stdout",
     "output_type": "stream",
     "text": [
      "                                 driver_id                          order_id  \\\n",
      "26398924  15045dc2301012dda9cb8e98f4723efd  0000f2c8aa21f2599a82923f317334bc   \n",
      "26406278  15045dc2301012dda9cb8e98f4723efd  0000f2c8aa21f2599a82923f317334bc   \n",
      "26407650  15045dc2301012dda9cb8e98f4723efd  0000f2c8aa21f2599a82923f317334bc   \n",
      "26409665  15045dc2301012dda9cb8e98f4723efd  0000f2c8aa21f2599a82923f317334bc   \n",
      "26410951  15045dc2301012dda9cb8e98f4723efd  0000f2c8aa21f2599a82923f317334bc   \n",
      "...                                    ...                               ...   \n",
      "893278    67b22cf16e576ba7d221f59d277e28d7  ffff7a1f17612b78c8884552746cf8cf   \n",
      "893484    67b22cf16e576ba7d221f59d277e28d7  ffff7a1f17612b78c8884552746cf8cf   \n",
      "893925    67b22cf16e576ba7d221f59d277e28d7  ffff7a1f17612b78c8884552746cf8cf   \n",
      "894176    67b22cf16e576ba7d221f59d277e28d7  ffff7a1f17612b78c8884552746cf8cf   \n",
      "894411    67b22cf16e576ba7d221f59d277e28d7  ffff7a1f17612b78c8884552746cf8cf   \n",
      "\n",
      "                    gps_time   longitude   latitude  \n",
      "26398924 2016-11-01 19:38:51  104.048065  30.690375  \n",
      "26406278 2016-11-01 19:39:06  104.047955  30.690355  \n",
      "26407650 2016-11-01 19:39:09  104.047816  30.690325  \n",
      "26409665 2016-11-01 19:39:12  104.047596  30.690276  \n",
      "26410951 2016-11-01 19:39:15  104.047477  30.690256  \n",
      "...                      ...         ...        ...  \n",
      "893278   2016-11-01 02:15:40  104.041742  30.685091  \n",
      "893484   2016-11-01 02:15:43  104.041403  30.685521  \n",
      "893925   2016-11-01 02:15:49  104.040855  30.686222  \n",
      "894176   2016-11-01 02:15:52  104.040576  30.686583  \n",
      "894411   2016-11-01 02:15:55  104.040386  30.686843  \n",
      "\n",
      "[8359710 rows x 5 columns]\n",
      "\n",
      "已将筛选结果成功保存到 'filtered_orders.csv'\n"
     ]
    }
   ],
   "execution_count": 3
  },
  {
   "metadata": {
    "ExecuteTime": {
     "end_time": "2025-07-14T13:59:00.610278Z",
     "start_time": "2025-07-14T13:59:00.136008Z"
    }
   },
   "cell_type": "code",
   "source": [
    "order_sampled_trajectory = get_random_order_trajectories(filtered_df , 20)\n",
    "\n",
    "order_sampled_trajectory.to_csv(\"filtered_sampled_orders.csv\", index=False, encoding='utf-8-sig')"
   ],
   "id": "f8e702403d8c00b6",
   "outputs": [
    {
     "name": "stdout",
     "output_type": "stream",
     "text": [
      "已随机抽取的订单ID为: ['82e5c3eb5453c6d03a9a29600b7a6501', 'f8b5f9dee087290b6661ea178a62e107', 'a990295fa9d18eb33f78782e917c43b4', '2e190d43a42a99ce9a326990e36a6f22', 'ba530ed77a6da11f9256fd04fd020a01', 'cb6bae80e57bfb373d12a4be09aef190', '97e57f6b0001cae19eed431199aec142', 'f45987a45aad02e876fb979dc64c3648', 'add2ae92223ed8cc895842d7c2c03efd', '6ffecaddceae7cb5c952e74b080f54da', '94d0d108e9eee7f5ce4a1819cdc2cf5a', 'bcce7e6249cc3711951e4fd5448d9119', '1f374816644830d794b03ecc6d6d22a9', 'fe027ecd05beadfaac5c230112f62b9a', '6d7773394ae37edf11ce566b4038c94b', '588abe15d9e6435e4f78ae033fcf32ee', '9838ae838dbd2260fa4fe32e1a639fa9', '98eb8d9720afda7cbe63799193235878', '60855c6217fc5c8e273edad02f307ce5', '376d3c200bae90a8b3b242d3a8df3edd']\n"
     ]
    }
   ],
   "execution_count": 5
  }
 ],
 "metadata": {
  "kernelspec": {
   "display_name": "Python 3",
   "language": "python",
   "name": "python3"
  },
  "language_info": {
   "codemirror_mode": {
    "name": "ipython",
    "version": 2
   },
   "file_extension": ".py",
   "mimetype": "text/x-python",
   "name": "python",
   "nbconvert_exporter": "python",
   "pygments_lexer": "ipython2",
   "version": "2.7.6"
  }
 },
 "nbformat": 4,
 "nbformat_minor": 5
}

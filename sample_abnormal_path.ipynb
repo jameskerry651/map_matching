{
 "cells": [
  {
   "cell_type": "code",
   "id": "initial_id",
   "metadata": {
    "collapsed": true,
    "ExecuteTime": {
     "end_time": "2025-07-19T06:59:51.752647Z",
     "start_time": "2025-07-19T06:59:51.750511Z"
    }
   },
   "source": [
    "from utils.sample_data_utils import *\n",
    "import pandas as pd\n"
   ],
   "outputs": [],
   "execution_count": 34
  },
  {
   "metadata": {},
   "cell_type": "markdown",
   "source": "采样一部分匹配异常的数据观测，主要根据匹配长度差值采样",
   "id": "ce20a2aafa558384"
  },
  {
   "metadata": {
    "ExecuteTime": {
     "end_time": "2025-07-19T06:59:52.186693Z",
     "start_time": "2025-07-19T06:59:51.804434Z"
    }
   },
   "cell_type": "code",
   "source": [
    "matched_orders = pd.read_csv('matched_points_for_qgis.csv')\n",
    "print(matched_orders.columns)\n",
    "\n",
    "error_df = pd.read_csv(\"map_matching_error_analysis.csv\")\n",
    "print(error_df.columns)\n",
    "\n",
    "original_df = pd.read_csv(\"filtered_orders.csv\")\n",
    "print(original_df.columns)"
   ],
   "id": "5e9423dc8db2cfa2",
   "outputs": [
    {
     "name": "stdout",
     "output_type": "stream",
     "text": [
      "Index(['order_id', 'driver_id', 'matched_longitude', 'matched_latitude',\n",
      "       'point_sequence', 'total_order_distance_m', 'total_order_duration_s',\n",
      "       'order_avg_confidence'],\n",
      "      dtype='object')\n",
      "Index(['order_id', 'num_points', 'original_path_length_m',\n",
      "       'matched_path_length_m', 'path_length_difference_m',\n",
      "       'mean_pointwise_error_m', 'median_pointwise_error_m',\n",
      "       'max_pointwise_error_m', 'frechet_distance'],\n",
      "      dtype='object')\n",
      "Index(['driver_id', 'order_id', 'gps_time', 'longitude', 'latitude',\n",
      "       'time_diff'],\n",
      "      dtype='object')\n"
     ]
    }
   ],
   "execution_count": 35
  },
  {
   "metadata": {
    "ExecuteTime": {
     "end_time": "2025-07-19T06:59:52.199284Z",
     "start_time": "2025-07-19T06:59:52.197095Z"
    }
   },
   "cell_type": "code",
   "source": [
    "def filter_trajectory_data(filtered_orders_path, matched_points_path, error_analysis_path):\n",
    "    \"\"\"\n",
    "    根据路径长度差异筛选出租车订单轨迹数据。\n",
    "\n",
    "    参数:\n",
    "    filtered_orders_path (str): 原始出租车订单轨迹CSV文件的路径。\n",
    "    matched_points_path (str): 匹配后的GPS轨迹CSV文件的路径。\n",
    "    error_analysis_path (str): 地图匹配误差分析CSV文件的路径。\n",
    "\n",
    "    返回:\n",
    "    tuple: 包含两个DataFrame的元组 (filtered_original_df, filtered_matched_df)。\n",
    "           - filtered_original_df: 筛选后的原始GPS轨迹数据。\n",
    "           - filtered_matched_df: 筛选后的匹配GPS轨迹数据。\n",
    "    \"\"\"\n",
    "    # 读取CSV文件到Pandas DataFrame\n",
    "    try:\n",
    "        original_orders_df = pd.read_csv(filtered_orders_path)\n",
    "        matched_points_df = pd.read_csv(matched_points_path)\n",
    "        error_analysis_df = pd.read_csv(error_analysis_path)\n",
    "    except FileNotFoundError as e:\n",
    "        print(f\"错误: {e}\")\n",
    "        return None, None\n",
    "\n",
    "    # 筛选出 path_length_difference_m 绝对值小于400米的订单\n",
    "    filtered_error_df = error_analysis_df[error_analysis_df['path_length_difference_m'].abs() < 70]\n",
    "\n",
    "    # 获取符合条件的订单ID列表\n",
    "    valid_order_ids = filtered_error_df['order_id'].tolist()\n",
    "\n",
    "    # 根据订单ID筛选原始GPS轨迹和匹配后的GPS轨迹\n",
    "    filtered_original_df = original_orders_df[original_orders_df['order_id'].isin(valid_order_ids)]\n",
    "    filtered_matched_df = matched_points_df[matched_points_df['order_id'].isin(valid_order_ids)]\n",
    "\n",
    "    return filtered_original_df, filtered_matched_df\n"
   ],
   "id": "f0ae43f3de65b70c",
   "outputs": [],
   "execution_count": 36
  },
  {
   "metadata": {
    "ExecuteTime": {
     "end_time": "2025-07-19T06:59:54.769478Z",
     "start_time": "2025-07-19T06:59:52.253777Z"
    }
   },
   "cell_type": "code",
   "source": [
    "# 定义文件路径\n",
    "filtered_orders_file = 'filtered_orders.csv'\n",
    "matched_points_file = 'matched_points_for_qgis.csv'\n",
    "error_analysis_file = 'map_matching_error_analysis.csv'\n",
    "\n",
    "# 调用函数进行筛选\n",
    "filtered_original_traces, filtered_matched_traces = filter_trajectory_data(\n",
    "    filtered_orders_file,\n",
    "    matched_points_file,\n",
    "    error_analysis_file\n",
    ")\n",
    "\n",
    "# 以下注释是随机采样订单，如果取消注释方便观察采样\n",
    "# unique_orders = filtered_original_traces['order_id'].unique()\n",
    "# sampled_order_ids = np.random.choice(unique_orders, size=10, replace=False)\n",
    "#\n",
    "# print(sampled_order_ids)\n",
    "#\n",
    "# filtered_original_traces = filtered_original_traces[filtered_original_traces['order_id'].isin(sampled_order_ids)].copy()\n",
    "# filtered_matched_traces = filtered_matched_traces[filtered_matched_traces['order_id'].isin(sampled_order_ids)].copy()\n",
    "\n",
    "# 如果筛选成功，则保存到新的CSV文件中\n",
    "if filtered_original_traces is not None and filtered_matched_traces is not None:\n",
    "    # 定义输出文件名\n",
    "    output_original_file = 'original_trajectories_under_70m_diff.csv'\n",
    "    output_matched_file = 'matched_trajectories_under_70m_diff.csv'\n",
    "\n",
    "    # 保存筛选后的数据到CSV文件，不包含Pandas的索引列. [1, 2, 3]\n",
    "    filtered_original_traces.to_csv(output_original_file, index=False)\n",
    "    filtered_matched_traces.to_csv(output_matched_file, index=False)\n",
    "\n",
    "    print(f\"筛选后的原始轨迹数据已保存至: {output_original_file}\")\n",
    "    print(f\"筛选后的匹配轨迹数据已保存至: {output_matched_file}\")\n",
    "\n"
   ],
   "id": "488be091355b746e",
   "outputs": [
    {
     "name": "stdout",
     "output_type": "stream",
     "text": [
      "筛选后的原始轨迹数据已保存至: original_trajectories_under_70m_diff.csv\n",
      "筛选后的匹配轨迹数据已保存至: matched_trajectories_under_70m_diff.csv\n"
     ]
    }
   ],
   "execution_count": 37
  }
 ],
 "metadata": {
  "kernelspec": {
   "display_name": "Python 3",
   "language": "python",
   "name": "python3"
  },
  "language_info": {
   "codemirror_mode": {
    "name": "ipython",
    "version": 2
   },
   "file_extension": ".py",
   "mimetype": "text/x-python",
   "name": "python",
   "nbconvert_exporter": "python",
   "pygments_lexer": "ipython2",
   "version": "2.7.6"
  }
 },
 "nbformat": 4,
 "nbformat_minor": 5
}
